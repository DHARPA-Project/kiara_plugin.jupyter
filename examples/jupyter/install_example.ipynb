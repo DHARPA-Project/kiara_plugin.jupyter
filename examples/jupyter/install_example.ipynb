{
 "cells": [
  {
   "cell_type": "code",
   "execution_count": 3,
   "metadata": {},
   "outputs": [
    {
     "data": {
      "text/plain": [
       "['KIARA_METADATA',\n",
       " '__author__',\n",
       " '__builtins__',\n",
       " '__cached__',\n",
       " '__doc__',\n",
       " '__email__',\n",
       " '__file__',\n",
       " '__loader__',\n",
       " '__name__',\n",
       " '__package__',\n",
       " '__path__',\n",
       " '__spec__',\n",
       " 'get_version',\n",
       " 'os']"
      ]
     },
     "execution_count": 3,
     "metadata": {},
     "output_type": "execute_result"
    }
   ],
   "source": [
    "import kiara_plugin.jupyter\n",
    "dir(kiara_plugin.jupyter)"
   ]
  },
  {
   "cell_type": "code",
   "execution_count": 1,
   "metadata": {},
   "outputs": [
    {
     "name": "stdout",
     "output_type": "stream",
     "text": [
      "Installing 'kiara_plugin.jupyter'...\n"
     ]
    },
    {
     "ename": "ImportError",
     "evalue": "cannot import name 'ensure_kiara_plugins' from 'kiara_plugin.jupyter' (/home/markus/.local/share/micromamba/envs/kiara-jupyter/lib/python3.10/site-packages/kiara_plugin/jupyter/__init__.py)",
     "output_type": "error",
     "traceback": [
      "\u001b[0;31m---------------------------------------------------------------------------\u001b[0m",
      "\u001b[0;31mImportError\u001b[0m                               Traceback (most recent call last)",
      "Cell \u001b[0;32mIn[1], line 2\u001b[0m\n\u001b[1;32m      1\u001b[0m \u001b[38;5;28;01mtry\u001b[39;00m:\n\u001b[0;32m----> 2\u001b[0m     \u001b[38;5;28;01mfrom\u001b[39;00m \u001b[38;5;21;01mkiara_plugin\u001b[39;00m\u001b[38;5;21;01m.\u001b[39;00m\u001b[38;5;21;01mjupyter\u001b[39;00m \u001b[38;5;28;01mimport\u001b[39;00m ensure_kiara_plugins\n\u001b[1;32m      3\u001b[0m \u001b[38;5;28;01mexcept\u001b[39;00m:\n",
      "\u001b[0;31mImportError\u001b[0m: cannot import name 'ensure_kiara_plugins' from 'kiara_plugin.jupyter' (/home/markus/.local/share/micromamba/envs/kiara-jupyter/lib/python3.10/site-packages/kiara_plugin/jupyter/__init__.py)",
      "\nDuring handling of the above exception, another exception occurred:\n",
      "\u001b[0;31mImportError\u001b[0m                               Traceback (most recent call last)",
      "Cell \u001b[0;32mIn[1], line 7\u001b[0m\n\u001b[1;32m      5\u001b[0m     \u001b[38;5;28mprint\u001b[39m(\u001b[38;5;124m\"\u001b[39m\u001b[38;5;124mInstalling \u001b[39m\u001b[38;5;124m'\u001b[39m\u001b[38;5;124mkiara_plugin.jupyter\u001b[39m\u001b[38;5;124m'\u001b[39m\u001b[38;5;124m...\u001b[39m\u001b[38;5;124m\"\u001b[39m)\n\u001b[1;32m      6\u001b[0m     get_ipython()\u001b[38;5;241m.\u001b[39msystem(\u001b[38;5;124m'\u001b[39m\u001b[38;5;132;01m{sys.executable}\u001b[39;00m\u001b[38;5;124m -m pip install -q kiara_plugin.jupyter\u001b[39m\u001b[38;5;124m'\u001b[39m)\n\u001b[0;32m----> 7\u001b[0m     \u001b[38;5;28;01mfrom\u001b[39;00m \u001b[38;5;21;01mkiara_plugin\u001b[39;00m\u001b[38;5;21;01m.\u001b[39;00m\u001b[38;5;21;01mjupyter\u001b[39;00m \u001b[38;5;28;01mimport\u001b[39;00m ensure_kiara_plugins\n\u001b[1;32m      9\u001b[0m \u001b[38;5;66;03m# select the kiara plugin packages you are interested in, available currently:\u001b[39;00m\n\u001b[1;32m     10\u001b[0m \u001b[38;5;66;03m#\u001b[39;00m\n\u001b[1;32m     11\u001b[0m \u001b[38;5;66;03m# - kiara_plugin.tabular\u001b[39;00m\n\u001b[1;32m     12\u001b[0m \u001b[38;5;66;03m# - kiara_plugin.onboarding\u001b[39;00m\n\u001b[1;32m     13\u001b[0m \u001b[38;5;66;03m# - kiara_plugin.network_analysis\u001b[39;00m\n\u001b[1;32m     14\u001b[0m \u001b[38;5;66;03m# - kiara_plugin.language_processing\u001b[39;00m\n\u001b[1;32m     16\u001b[0m ensure_kiara_plugins(\u001b[38;5;124m\"\u001b[39m\u001b[38;5;124mkiara_plugin.onboarding\u001b[39m\u001b[38;5;124m\"\u001b[39m, \u001b[38;5;124m\"\u001b[39m\u001b[38;5;124mkiara_plugin.tabular\u001b[39m\u001b[38;5;124m\"\u001b[39m)\n",
      "\u001b[0;31mImportError\u001b[0m: cannot import name 'ensure_kiara_plugins' from 'kiara_plugin.jupyter' (/home/markus/.local/share/micromamba/envs/kiara-jupyter/lib/python3.10/site-packages/kiara_plugin/jupyter/__init__.py)"
     ]
    }
   ],
   "source": [
    "try:\n",
    "    from kiara_plugin.jupyter import ensure_kiara_plugins\n",
    "except:\n",
    "    import sys\n",
    "    print(\"Installing 'kiara_plugin.jupyter'...\")\n",
    "    !{sys.executable} -m pip install -q kiara_plugin.jupyter\n",
    "    from kiara_plugin.jupyter import ensure_kiara_plugins\n",
    "\n",
    "# select the kiara plugin packages you are interested in, available currently:\n",
    "#\n",
    "# - kiara_plugin.tabular\n",
    "# - kiara_plugin.onboarding\n",
    "# - kiara_plugin.network_analysis\n",
    "# - kiara_plugin.language_processing\n",
    "\n",
    "ensure_kiara_plugins(\"kiara_plugin.onboarding\", \"kiara_plugin.tabular\")"
   ]
  },
  {
   "cell_type": "code",
   "execution_count": null,
   "metadata": {},
   "outputs": [],
   "source": [
    "from kiara import KiaraAPI\n",
    "\n",
    "# create the default api instance\n",
    "api = KiaraAPI.instance()\n"
   ]
  },
  {
   "cell_type": "code",
   "execution_count": null,
   "metadata": {
    "collapsed": false,
    "jupyter": {
     "outputs_hidden": false
    }
   },
   "outputs": [],
   "source": [
    "# we can use any of the functions of the api instance\n",
    "# documentation [here](https://dharpa.org/kiara/latest/reference/kiara/interfaces/python_api/__init__/#kiara.interfaces.python_api.KiaraAPI)\n",
    "\n",
    "api.list_operation_ids()"
   ]
  },
  {
   "cell_type": "code",
   "execution_count": null,
   "metadata": {
    "collapsed": false,
    "jupyter": {
     "outputs_hidden": false
    }
   },
   "outputs": [],
   "source": [
    "# most likely, we'll want to run an operation, let's pick one\n",
    "\n",
    "op_id = \"download.file\"\n",
    "\n",
    "# now, let's check information about the operation, esp. what input(s) it requires\n",
    "api.retrieve_operation_info(op_id)\n"
   ]
  },
  {
   "cell_type": "code",
   "execution_count": null,
   "metadata": {
    "collapsed": false,
    "jupyter": {
     "outputs_hidden": false
    }
   },
   "outputs": [],
   "source": [
    "# ok, we need an 'url' value, and an (optional) file_name:\n",
    "\n",
    "inputs = {\n",
    "    \"url\": \"https://raw.githubusercontent.com/DHARPA-Project/kiara.examples/main/examples/data/journals/JournalNodes1902.csv\",\n",
    "    \"file_name\": \"JournalNodes1902.csv\"\n",
    "}\n",
    "\n",
    "# now, run it\n",
    "results = api.run_job(op_id, inputs=inputs)\n",
    "# ...and print a result preview\n",
    "results"
   ]
  },
  {
   "cell_type": "code",
   "execution_count": null,
   "metadata": {
    "collapsed": false,
    "jupyter": {
     "outputs_hidden": false
    }
   },
   "outputs": [],
   "source": [
    "# this looks good, we are really only interested in the 'file' output, let's store it in a variable for later:\n",
    "\n",
    "downloaded_file = results[\"file\"]\n",
    "\n",
    "# now we want to do something with that file, specifically, convert it into a table\n",
    "# the operation id for this is:\n",
    "\n",
    "op_id = \"create.table.from.file\"\n",
    "\n",
    "# and let us check information about the operation, esp. its input(s)\n",
    "api.retrieve_operation_info(op_id)\n"
   ]
  },
  {
   "cell_type": "code",
   "execution_count": null,
   "metadata": {
    "collapsed": false,
    "jupyter": {
     "outputs_hidden": false
    }
   },
   "outputs": [],
   "source": [
    "# same procedure as before, we assemble the input(s), and run a kiara job\n",
    "\n",
    "inputs = {\n",
    "    \"file\": downloaded_file\n",
    "}\n",
    "\n",
    "# now, run it\n",
    "results = api.run_job(op_id, inputs=inputs)\n",
    "# ...and print a result preview\n",
    "results\n"
   ]
  },
  {
   "cell_type": "code",
   "execution_count": null,
   "metadata": {
    "collapsed": false,
    "jupyter": {
     "outputs_hidden": false
    }
   },
   "outputs": [],
   "source": [
    "# we are really only interested in the 'table' output field, let's get the 'Value' object for it\n",
    "\n",
    "table_val = results[\"table\"]\n",
    "table_val  # this displays some general (mostly internal) information and metadata for the value"
   ]
  },
  {
   "cell_type": "code",
   "execution_count": null,
   "metadata": {
    "collapsed": false,
    "jupyter": {
     "outputs_hidden": false
    }
   },
   "outputs": [],
   "source": [
    "# maybe we want to run a sql query against the table, let's find a good operation\n",
    "\n",
    "api.list_operation_ids(\"query\")"
   ]
  },
  {
   "cell_type": "code",
   "execution_count": null,
   "metadata": {
    "collapsed": false,
    "jupyter": {
     "outputs_hidden": false
    }
   },
   "outputs": [],
   "source": [
    "# 'query.table' looks good, let's see...\n",
    "\n",
    "api.retrieve_operation_info('query.table')"
   ]
  },
  {
   "cell_type": "code",
   "execution_count": null,
   "metadata": {
    "collapsed": false,
    "jupyter": {
     "outputs_hidden": false
    }
   },
   "outputs": [],
   "source": [
    "# ok, given this information, we only need to provide the 'table' and 'query', and reference the string data in the sql...\n",
    "\n",
    "inputs = {\n",
    "    \"table\": table_val,\n",
    "    \"query\": \"SELECT Label, City from data where City like 'Berlin'\"\n",
    "}\n",
    "results = api.run_job(\"query.table\", inputs=inputs)\n",
    "results"
   ]
  },
  {
   "cell_type": "code",
   "execution_count": null,
   "metadata": {
    "collapsed": false,
    "jupyter": {
     "outputs_hidden": false
    }
   },
   "outputs": [],
   "source": [
    "# let's get the value of the 'query_result' field...\n",
    "\n",
    "query_result = results['query_result']\n",
    "\n",
    "# and have a look at its lineage (even though it's not particularly interesting yet)\n",
    "query_result.lineage\n"
   ]
  },
  {
   "cell_type": "code",
   "execution_count": null,
   "metadata": {
    "collapsed": false,
    "jupyter": {
     "outputs_hidden": false
    }
   },
   "outputs": [],
   "source": [
    "# and some (type specific) properties...\n",
    "\n",
    "query_result.property_values\n"
   ]
  },
  {
   "cell_type": "code",
   "execution_count": null,
   "metadata": {
    "collapsed": false,
    "jupyter": {
     "outputs_hidden": false
    }
   },
   "outputs": [],
   "source": [
    "# the value is of type 'table', we can access the data as a Python object\n",
    "\n",
    "query_table_data = query_result.data\n",
    "\n",
    "# we can check out what (Python) type is used under the hood\n",
    "type(query_table_data)"
   ]
  },
  {
   "cell_type": "code",
   "execution_count": null,
   "metadata": {
    "collapsed": false,
    "jupyter": {
     "outputs_hidden": false
    }
   },
   "outputs": [],
   "source": [
    "# and if we look up documentation about this type, we can use some of its\n",
    "# utility methods etc. For this type, the documentation is here: https://dharpa.org/kiara_plugin.tabular/latest/reference/kiara_plugin/tabular/models/table/#kiara_plugin.tabular.models.table.KiaraTable\n",
    "#\n",
    "# TODO: implement discoverability for these types of things, so links to documentation can be accessd\n",
    "# directly via the Python object\n",
    "\n",
    "# for example, we can get the table as a Pandas dataframe:\n",
    "\n",
    "df = query_table_data.to_pandas()\n",
    "df\n"
   ]
  },
  {
   "cell_type": "code",
   "execution_count": null,
   "metadata": {},
   "outputs": [],
   "source": []
  }
 ],
 "metadata": {
  "kernelspec": {
   "display_name": "Python 3 (ipykernel)",
   "language": "python",
   "name": "python3"
  },
  "language_info": {
   "codemirror_mode": {
    "name": "ipython",
    "version": 3
   },
   "file_extension": ".py",
   "mimetype": "text/x-python",
   "name": "python",
   "nbconvert_exporter": "python",
   "pygments_lexer": "ipython3",
   "version": "3.10.0"
  }
 },
 "nbformat": 4,
 "nbformat_minor": 4
}
